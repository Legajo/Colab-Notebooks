{
  "nbformat": 4,
  "nbformat_minor": 0,
  "metadata": {
    "colab": {
      "provenance": [],
      "authorship_tag": "ABX9TyPV2IqSI8KSqpd+BB8j3Bwp",
      "include_colab_link": true
    },
    "kernelspec": {
      "name": "python3",
      "display_name": "Python 3"
    },
    "language_info": {
      "name": "python"
    }
  },
  "cells": [
    {
      "cell_type": "markdown",
      "metadata": {
        "id": "view-in-github",
        "colab_type": "text"
      },
      "source": [
        "<a href=\"https://colab.research.google.com/github/Legajo/Colab-Notebooks/blob/main/HW2_Q2.ipynb\" target=\"_parent\"><img src=\"https://colab.research.google.com/assets/colab-badge.svg\" alt=\"Open In Colab\"/></a>"
      ]
    },
    {
      "cell_type": "code",
      "execution_count": 2,
      "metadata": {
        "colab": {
          "base_uri": "https://localhost:8080/"
        },
        "id": "DJkJKLczBQUo",
        "outputId": "4ebea660-b37e-4f48-c12b-39e6fa6b073b"
      },
      "outputs": [
        {
          "output_type": "stream",
          "name": "stdout",
          "text": [
            "\n",
            "================================================================================\n",
            "PROMPT 1: SCRAPING IPO DATA\n",
            "================================================================================\n",
            "✓ Scraped 225 IPOs from 2024\n",
            "✓ Filtered to 77 tickers (Expected: 75)\n",
            "✓ Date range: 2024-01-09 to 2024-05-31\n"
          ]
        },
        {
          "output_type": "stream",
          "name": "stderr",
          "text": [
            "/tmp/ipython-input-4089805284.py:35: FutureWarning: Passing literal html to 'read_html' is deprecated and will be removed in a future version. To read from a literal string, wrap it in a 'StringIO' object.\n",
            "  df_ipos = pd.read_html(str(table))[0]\n"
          ]
        }
      ],
      "source": [
        "\"\"\"\n",
        "═══════════════════════════════════════════════════════════════════════════════\n",
        "COMPLETE IPO SHARPE RATIO ANALYSIS - ALL PROMPTS IN SEQUENCE\n",
        "═══════════════════════════════════════════════════════════════════════════════\n",
        "Question: What is the median Sharpe ratio (as of June 6, 2025) for companies\n",
        "          that went public in the first 5 months of 2024?\n",
        "═══════════════════════════════════════════════════════════════════════════════\n",
        "\"\"\"\n",
        "\n",
        "import pandas as pd\n",
        "import numpy as np\n",
        "import requests\n",
        "from bs4 import BeautifulSoup\n",
        "from datetime import datetime\n",
        "import yfinance as yf\n",
        "import time\n",
        "\n",
        "# ═══════════════════════════════════════════════════════════════════════════════\n",
        "# PROMPT 1: SCRAPE 2024 IPOs AND FILTER TO FIRST 5 MONTHS\n",
        "# ═══════════════════════════════════════════════════════════════════════════════\n",
        "\n",
        "print(\"\\n\" + \"=\"*80)\n",
        "print(\"PROMPT 1: SCRAPING IPO DATA\")\n",
        "print(\"=\"*80)\n",
        "\n",
        "url = 'https://stockanalysis.com/ipos/2024/'\n",
        "headers = {\n",
        "    'User-Agent': 'Mozilla/5.0 (Windows NT 10.0; Win64; x64) AppleWebKit/537.36'\n",
        "}\n",
        "\n",
        "response = requests.get(url, headers=headers)\n",
        "soup = BeautifulSoup(response.content, 'html.parser')\n",
        "\n",
        "table = soup.find('table')\n",
        "df_ipos = pd.read_html(str(table))[0]\n",
        "\n",
        "print(f\"✓ Scraped {len(df_ipos)} IPOs from 2024\")\n",
        "\n",
        "# Identify and convert date column\n",
        "date_col = [col for col in df_ipos.columns if 'date' in col.lower() or 'priced' in col.lower()][0]\n",
        "df_ipos[date_col] = pd.to_datetime(df_ipos[date_col])\n",
        "\n",
        "# Filter to first 5 months of 2024\n",
        "cutoff_date = datetime(2024, 6, 1)\n",
        "df_filtered = df_ipos[df_ipos[date_col] < cutoff_date].copy()\n",
        "\n",
        "# Extract ticker symbols\n",
        "ticker_col = [col for col in df_filtered.columns if 'symbol' in col.lower() or 'ticker' in col.lower()][0]\n",
        "ALL_TICKERS = df_filtered[ticker_col].tolist()\n",
        "\n",
        "print(f\"✓ Filtered to {len(ALL_TICKERS)} tickers (Expected: 75)\")\n",
        "print(f\"✓ Date range: {df_filtered[date_col].min().date()} to {df_filtered[date_col].max().date()}\")\n"
      ]
    },
    {
      "cell_type": "code",
      "source": [
        "\"\"\"\n",
        "═══════════════════════════════════════════════════════════════════════════════\n",
        "COMPLETE IPO SHARPE RATIO ANALYSIS - ALL PROMPTS IN SEQUENCE\n",
        "═══════════════════════════════════════════════════════════════════════════════\n",
        "Question: What is the median Sharpe ratio (as of June 6, 2025) for companies\n",
        "          that went public in the first 5 months of 2024?\n",
        "═══════════════════════════════════════════════════════════════════════════════\n",
        "\"\"\"\n",
        "\n",
        "import pandas as pd\n",
        "import numpy as np\n",
        "import requests\n",
        "from bs4 import BeautifulSoup\n",
        "from datetime import datetime\n",
        "import yfinance as yf\n",
        "import time\n",
        "\n",
        "# ═══════════════════════════════════════════════════════════════════════════════\n",
        "# PROMPT 1: SCRAPE 2024 IPOs AND FILTER TO FIRST 5 MONTHS\n",
        "# ═══════════════════════════════════════════════════════════════════════════════\n",
        "\n",
        "print(\"\\n\" + \"=\"*80)\n",
        "print(\"PROMPT 1: SCRAPING IPO DATA\")\n",
        "print(\"=\"*80)\n",
        "\n",
        "url = 'https://stockanalysis.com/ipos/2024/'\n",
        "headers = {\n",
        "    'User-Agent': 'Mozilla/5.0 (Windows NT 10.0; Win64; x64) AppleWebKit/537.36'\n",
        "}\n",
        "\n",
        "response = requests.get(url, headers=headers)\n",
        "soup = BeautifulSoup(response.content, 'html.parser')\n",
        "\n",
        "table = soup.find('table')\n",
        "df_ipos = pd.read_html(str(table))[0]\n",
        "\n",
        "print(f\"✓ Scraped {len(df_ipos)} IPOs from 2024\")\n",
        "\n",
        "# Identify and convert date column\n",
        "date_col = [col for col in df_ipos.columns if 'date' in col.lower() or 'priced' in col.lower()][0]\n",
        "df_ipos[date_col] = pd.to_datetime(df_ipos[date_col])\n",
        "\n",
        "# Filter to first 5 months of 2024\n",
        "cutoff_date = datetime(2024, 6, 1)\n",
        "df_filtered = df_ipos[df_ipos[date_col] < cutoff_date].copy()\n",
        "\n",
        "# Extract ticker symbols\n",
        "ticker_col = [col for col in df_filtered.columns if 'symbol' in col.lower() or 'ticker' in col.lower()][0]\n",
        "ALL_TICKERS = df_filtered[ticker_col].tolist()\n",
        "\n",
        "print(f\"✓ Filtered to {len(ALL_TICKERS)} tickers (Expected: 75)\")\n",
        "print(f\"✓ Date range: {df_filtered[date_col].min().date()} to {df_filtered[date_col].max().date()}\")\n",
        "\n",
        "# ═══════════════════════════════════════════════════════════════════════════════\n",
        "# PROMPT 2-3: DOWNLOAD DAILY OHLCV DATA USING YFINANCE\n",
        "# ═══════════════════════════════════════════════════════════════════════════════\n",
        "\n",
        "print(\"\\n\" + \"=\"*80)\n",
        "print(\"PROMPT 2-3: DOWNLOADING STOCK DATA\")\n",
        "print(\"=\"*80)\n",
        "print(f\"Downloading {len(ALL_TICKERS)} tickers (will take ~{len(ALL_TICKERS)} seconds)\")\n",
        "print(\"=\"*80 + \"\\n\")\n",
        "\n",
        "# Initialize empty DataFrame (Code Snippet 7 pattern)\n",
        "stocks_df = pd.DataFrame({'A': []})\n",
        "\n",
        "for i, ticker in enumerate(ALL_TICKERS):\n",
        "    print(f\"{i:2d} {ticker}\", end=\" \")\n",
        "\n",
        "    try:\n",
        "        ticker_obj = yf.Ticker(ticker)\n",
        "        historyPrices = ticker_obj.history(period=\"max\", interval=\"1d\")\n",
        "\n",
        "        if historyPrices.empty:\n",
        "            print(\"⚠ NO DATA\")\n",
        "            continue\n",
        "\n",
        "        # Generate features\n",
        "        historyPrices['Ticker'] = ticker\n",
        "        historyPrices['Year'] = historyPrices.index.year\n",
        "        historyPrices['Month'] = historyPrices.index.month\n",
        "        historyPrices['Weekday'] = historyPrices.index.weekday\n",
        "        historyPrices['Date'] = historyPrices.index.date\n",
        "\n",
        "        # Historical returns - including growth_252d\n",
        "        for days in [1, 3, 7, 30, 90, 252, 365]:\n",
        "            historyPrices[f'growth_{days}d'] = historyPrices['Close'] / historyPrices['Close'].shift(days)\n",
        "\n",
        "        historyPrices['growth_future_30d'] = historyPrices['Close'].shift(-30) / historyPrices['Close']\n",
        "\n",
        "        # Technical indicators\n",
        "        historyPrices['SMA10'] = historyPrices['Close'].rolling(10).mean()\n",
        "        historyPrices['SMA20'] = historyPrices['Close'].rolling(20).mean()\n",
        "        historyPrices['growing_moving_average'] = np.where(historyPrices['SMA10'] > historyPrices['SMA20'], 1, 0)\n",
        "        historyPrices['high_minus_low_relative'] = (historyPrices.High - historyPrices.Low) / historyPrices['Close']\n",
        "\n",
        "        # ⚠️ ORIGINAL volatility formula\n",
        "        historyPrices['volatility'] = historyPrices['Close'].rolling(30).std() * np.sqrt(252)\n",
        "\n",
        "        historyPrices['is_positive_growth_30d_future'] = np.where(historyPrices['growth_future_30d'] > 1, 1, 0)\n",
        "\n",
        "        print(f\"✓ ({len(historyPrices)} rows)\")\n",
        "\n",
        "        # Sleep 1 sec between downloads\n",
        "        time.sleep(1)\n",
        "\n",
        "        # Concatenate\n",
        "        if stocks_df.empty:\n",
        "            stocks_df = historyPrices\n",
        "        else:\n",
        "            stocks_df = pd.concat([stocks_df, historyPrices], ignore_index=True)\n",
        "\n",
        "    except Exception as e:\n",
        "        print(f\"⚠ ERROR: {e}\")\n",
        "        continue\n",
        "\n",
        "stocks_df['Date'] = pd.to_datetime(stocks_df['Date'])\n",
        "\n",
        "print(f\"\\n✓ Downloaded {len(stocks_df):,} rows for {stocks_df['Ticker'].nunique()} tickers\")\n"
      ],
      "metadata": {
        "colab": {
          "base_uri": "https://localhost:8080/"
        },
        "id": "DHL47hBgEVdQ",
        "outputId": "feb44145-b6e7-4587-bee1-98bb5ff9c20e"
      },
      "execution_count": 3,
      "outputs": [
        {
          "output_type": "stream",
          "name": "stdout",
          "text": [
            "\n",
            "================================================================================\n",
            "PROMPT 1: SCRAPING IPO DATA\n",
            "================================================================================\n"
          ]
        },
        {
          "output_type": "stream",
          "name": "stderr",
          "text": [
            "/tmp/ipython-input-2187961629.py:35: FutureWarning: Passing literal html to 'read_html' is deprecated and will be removed in a future version. To read from a literal string, wrap it in a 'StringIO' object.\n",
            "  df_ipos = pd.read_html(str(table))[0]\n"
          ]
        },
        {
          "output_type": "stream",
          "name": "stdout",
          "text": [
            "✓ Scraped 225 IPOs from 2024\n",
            "✓ Filtered to 77 tickers (Expected: 75)\n",
            "✓ Date range: 2024-01-09 to 2024-05-31\n",
            "\n",
            "================================================================================\n",
            "PROMPT 2-3: DOWNLOADING STOCK DATA\n",
            "================================================================================\n",
            "Downloading 77 tickers (will take ~77 seconds)\n",
            "================================================================================\n",
            "\n",
            " 0 NAKA ✓ (338 rows)\n",
            " 1 BOW ✓ (343 rows)\n",
            " 2 HDL ✓ (347 rows)\n",
            " 3 RFAI ✓ (315 rows)\n",
            " 4 JDZG ✓ (349 rows)\n",
            " 5 RAY ✓ (349 rows)\n",
            " 6 BTOC ✓ (350 rows)\n",
            " 7 ZK ✓ (352 rows)\n",
            " 8 GPAT ✓ (316 rows)\n",
            " 9 PAL ✓ (353 rows)\n",
            "10 SVCO ✓ (353 rows)\n",
            "11 NNE ✓ (354 rows)\n",
            "12 CCIX ✓ (324 rows)\n",
            "13 VIK ✓ (359 rows)\n",
            "14 ZONE ✓ (362 rows)\n",
            "15 LOAR ✓ (363 rows)\n",
            "16 MRX ✓ (363 rows)\n",
            "17 RBRK ✓ (363 rows)\n",
            "18 NCI ✓ (365 rows)\n",
            "19 MFI ✓ (366 rows)\n",
            "20 YYGH ✓ (366 rows)\n",
            "21 TRSG ✓ (367 rows)\n",
            "22 CDTG ✓ (367 rows)\n",
            "23 CTRI ✓ (367 rows)\n",
            "24 IBTA ✓ (367 rows)\n",
            "25 MTEN ✓ (367 rows)\n",
            "26 SUPX ✓ (369 rows)\n",
            "27 TWG ✓ (369 rows)\n",
            "28 ULS ✓ (372 rows)\n",
            "29 PACS ✓ (373 rows)\n",
            "30 MNDR ✓ (374 rows)\n",
            "31 CTNM ✓ (377 rows)\n",
            "32 MAMO ✓ (380 rows)\n",
            "33 ZBAO ✓ (380 rows)\n",
            "34 BOLD ✓ (382 rows)\n",
            "35 MMA ✓ (382 rows)\n",
            "36 UBXG ✓ (382 rows)\n",
            "37 IBAC ✓ (359 rows)\n",
            "38 AUNA ✓ (386 rows)\n",
            "39 BKHA ✓ (350 rows)\n",
            "40 LOBO ✓ (387 rows)\n",
            "41 RDDT ✓ (387 rows)\n",
            "42 ALAB ✓ (388 rows)\n",
            "43 INTJ ✓ (388 rows)\n",
            "44 RYDE ✓ (398 rows)\n",
            "45 LGCL ✓ (399 rows)\n",
            "46 SMXT ✓ (404 rows)\n",
            "47 VHAI ✓ (268 rows)\n",
            "48 DYCQ ✓ (371 rows)\n",
            "49 CHRO "
          ]
        },
        {
          "output_type": "stream",
          "name": "stderr",
          "text": [
            "ERROR:yfinance:HTTP Error 404: {\"quoteSummary\":{\"result\":null,\"error\":{\"code\":\"Not Found\",\"description\":\"Quote not found for symbol: CHRO\"}}}\n",
            "ERROR:yfinance:$CHRO: possibly delisted; no timezone found\n"
          ]
        },
        {
          "output_type": "stream",
          "name": "stdout",
          "text": [
            "⚠ NO DATA\n",
            "50 UMAC ✓ (412 rows)\n",
            "51 HLXB ✓ (376 rows)\n",
            "52 MGX ✓ (415 rows)\n",
            "53 TBBB ✓ (415 rows)\n",
            "54 TELO ✓ (415 rows)\n",
            "55 KYTX ✓ (415 rows)\n",
            "56 PMNT ✓ (416 rows)\n",
            "57 AHR ✓ (417 rows)\n",
            "58 LEGT ✓ (381 rows)\n",
            "59 ANRO ✓ (420 rows)\n",
            "60 GUTS ✓ (420 rows)\n",
            "61 AS ✓ (421 rows)\n",
            "62 FBLG ✓ (422 rows)\n",
            "63 AVBP ✓ (425 rows)\n",
            "64 BTSG ✓ (425 rows)\n",
            "65 HAO ✓ (425 rows)\n",
            "66 CGON ✓ (426 rows)\n",
            "67 YIBO ✓ (426 rows)\n",
            "68 JL ✓ (427 rows)\n",
            "69 SUGP ✓ (427 rows)\n",
            "70 JVSA "
          ]
        },
        {
          "output_type": "stream",
          "name": "stderr",
          "text": [
            "ERROR:yfinance:HTTP Error 404: {\"quoteSummary\":{\"result\":null,\"error\":{\"code\":\"Not Found\",\"description\":\"Quote not found for symbol: JVSA\"}}}\n",
            "ERROR:yfinance:$JVSA: possibly delisted; no timezone found\n"
          ]
        },
        {
          "output_type": "stream",
          "name": "stdout",
          "text": [
            "⚠ NO DATA\n",
            "71 KSPI ✓ (430 rows)\n",
            "72 CCTG ✓ (431 rows)\n",
            "73 PSBD ✓ (431 rows)\n",
            "74 SYNX ✓ (434 rows)\n",
            "75 SDHC ✓ (435 rows)\n",
            "76 ROMA ✓ (437 rows)\n",
            "\n",
            "✓ Downloaded 28,734 rows for 75 tickers\n"
          ]
        }
      ]
    },
    {
      "cell_type": "code",
      "source": [
        "# ═══════════════════════════════════════════════════════════════════════════════\n",
        "# PROMPT 4: VERIFY DATA\n",
        "# ═══════════════════════════════════════════════════════════════════════════════\n",
        "\n",
        "print(\"\\n\" + \"=\"*80)\n",
        "print(\"PROMPT 4: DATA VERIFICATION\")\n",
        "print(\"=\"*80)\n",
        "\n",
        "print(f\"\\nUnique tickers: {stocks_df['Ticker'].nunique()}\")\n",
        "print(f\"Date range: {stocks_df['Date'].min().date()} to {stocks_df['Date'].max().date()}\")\n",
        "\n",
        "print(\"\\nObservations per ticker (top 10):\")\n",
        "print(stocks_df['Ticker'].value_counts().head(10))\n"
      ],
      "metadata": {
        "colab": {
          "base_uri": "https://localhost:8080/"
        },
        "id": "M-GRh8hpFlB1",
        "outputId": "423c7814-1653-4bed-eccb-f962fb0ee2bf"
      },
      "execution_count": 4,
      "outputs": [
        {
          "output_type": "stream",
          "name": "stdout",
          "text": [
            "\n",
            "================================================================================\n",
            "PROMPT 4: DATA VERIFICATION\n",
            "================================================================================\n",
            "\n",
            "Unique tickers: 75\n",
            "Date range: 2024-01-09 to 2025-10-06\n",
            "\n",
            "Observations per ticker (top 10):\n",
            "Ticker\n",
            "ROMA    437\n",
            "SDHC    435\n",
            "SYNX    434\n",
            "CCTG    431\n",
            "PSBD    431\n",
            "KSPI    430\n",
            "SUGP    427\n",
            "JL      427\n",
            "YIBO    426\n",
            "CGON    426\n",
            "Name: count, dtype: int64\n"
          ]
        }
      ]
    },
    {
      "cell_type": "code",
      "source": [
        "# ═══════════════════════════════════════════════════════════════════════════════\n",
        "# PROMPT 5: CALCULATE SHARPE RATIO\n",
        "# ═══════════════════════════════════════════════════════════════════════════════\n",
        "\n",
        "print(\"\\n\" + \"=\"*80)\n",
        "print(\"PROMPT 5: CALCULATING SHARPE RATIO\")\n",
        "print(\"=\"*80)\n",
        "\n",
        "# Sharpe = (growth_252d - 0.045) / volatility\n",
        "stocks_df['Sharpe'] = (stocks_df['growth_252d'] - 0.045) / stocks_df['volatility']\n",
        "\n",
        "print(f\"✓ Sharpe ratio calculated\")\n",
        "print(f\"✓ Rows with Sharpe: {stocks_df['Sharpe'].notna().sum():,} / {len(stocks_df):,}\")\n"
      ],
      "metadata": {
        "colab": {
          "base_uri": "https://localhost:8080/"
        },
        "id": "2EAPAMDoFmiu",
        "outputId": "c34b3abb-904e-4b26-faa4-f7e1246c1461"
      },
      "execution_count": 5,
      "outputs": [
        {
          "output_type": "stream",
          "name": "stdout",
          "text": [
            "\n",
            "================================================================================\n",
            "PROMPT 5: CALCULATING SHARPE RATIO\n",
            "================================================================================\n",
            "✓ Sharpe ratio calculated\n",
            "✓ Rows with Sharpe: 9,834 / 28,734\n"
          ]
        }
      ]
    },
    {
      "cell_type": "code",
      "source": [
        "# ═══════════════════════════════════════════════════════════════════════════════\n",
        "# PROMPT 6: FILTER TO JUNE 6, 2025\n",
        "# ═══════════════════════════════════════════════════════════════════════════════\n",
        "\n",
        "print(\"\\n\" + \"=\"*80)\n",
        "print(\"PROMPT 6: FILTERING TO JUNE 6, 2025\")\n",
        "print(\"=\"*80)\n",
        "\n",
        "target_date = pd.to_datetime('2025-06-06')\n",
        "df_june6 = stocks_df[stocks_df['Date'] == target_date].copy()\n",
        "\n",
        "print(f\"✓ Tickers on {target_date.date()}: {len(df_june6)}\")\n",
        "print(f\"✓ With growth_252d: {df_june6['growth_252d'].notna().sum()} / {len(df_june6)} (Expected: 71/75)\")\n"
      ],
      "metadata": {
        "colab": {
          "base_uri": "https://localhost:8080/"
        },
        "id": "ybk4uMizFt0t",
        "outputId": "89d6f4f1-2a9f-4817-ac82-56fc733c3812"
      },
      "execution_count": 6,
      "outputs": [
        {
          "output_type": "stream",
          "name": "stdout",
          "text": [
            "\n",
            "================================================================================\n",
            "PROMPT 6: FILTERING TO JUNE 6, 2025\n",
            "================================================================================\n",
            "✓ Tickers on 2025-06-06: 75\n",
            "✓ With growth_252d: 71 / 75 (Expected: 71/75)\n"
          ]
        }
      ]
    },
    {
      "cell_type": "code",
      "source": [
        "# ═══════════════════════════════════════════════════════════════════════════════\n",
        "# PROMPT 7: DESCRIPTIVE STATISTICS\n",
        "# ═══════════════════════════════════════════════════════════════════════════════\n",
        "\n",
        "print(\"\\n\" + \"=\"*80)\n",
        "print(\"PROMPT 7: DESCRIPTIVE STATISTICS\")\n",
        "print(\"=\"*80)\n",
        "\n",
        "print(\"\\nGROWTH_252D STATISTICS:\")\n",
        "print(\"-\" * 80)\n",
        "print(df_june6['growth_252d'].describe())\n",
        "\n",
        "median_growth = df_june6['growth_252d'].median()\n",
        "mean_growth = df_june6['growth_252d'].mean()\n",
        "print(f\"\\nMedian: {median_growth:.4f} → {(median_growth-1)*100:.1f}% change (Expected: ~-25%)\")\n",
        "print(f\"Mean:   {mean_growth:.4f} → {(mean_growth-1)*100:.1f}% change (Expected: ~+15%)\")\n",
        "\n",
        "print(\"\\n\" + \"-\" * 80)\n",
        "print(\"SHARPE RATIO STATISTICS:\")\n",
        "print(\"-\" * 80)\n",
        "print(df_june6['Sharpe'].describe())\n",
        "\n",
        "positive_sharpe = (df_june6['Sharpe'] > 0).sum()\n",
        "total_sharpe = df_june6['Sharpe'].notna().sum()\n",
        "print(f\"\\nPositive Sharpe (beat 4.5% risk-free): {positive_sharpe} / {total_sharpe}\")\n"
      ],
      "metadata": {
        "colab": {
          "base_uri": "https://localhost:8080/"
        },
        "id": "HOyo9XRZF7-V",
        "outputId": "7bc19aaf-1c3a-491b-bf00-ea3bfd5da9a7"
      },
      "execution_count": 7,
      "outputs": [
        {
          "output_type": "stream",
          "name": "stdout",
          "text": [
            "\n",
            "================================================================================\n",
            "PROMPT 7: DESCRIPTIVE STATISTICS\n",
            "================================================================================\n",
            "\n",
            "GROWTH_252D STATISTICS:\n",
            "--------------------------------------------------------------------------------\n",
            "count    71.000000\n",
            "mean      1.223972\n",
            "std       1.505650\n",
            "min       0.024970\n",
            "25%       0.286818\n",
            "50%       0.708330\n",
            "75%       1.464634\n",
            "max       8.097413\n",
            "Name: growth_252d, dtype: float64\n",
            "\n",
            "Median: 0.7083 → -29.2% change (Expected: ~-25%)\n",
            "Mean:   1.2240 → 22.4% change (Expected: ~+15%)\n",
            "\n",
            "--------------------------------------------------------------------------------\n",
            "SHARPE RATIO STATISTICS:\n",
            "--------------------------------------------------------------------------------\n",
            "count    71.000000\n",
            "mean      0.235039\n",
            "std       0.470033\n",
            "min      -0.079677\n",
            "25%       0.030033\n",
            "50%       0.058319\n",
            "75%       0.208247\n",
            "max       2.835668\n",
            "Name: Sharpe, dtype: float64\n",
            "\n",
            "Positive Sharpe (beat 4.5% risk-free): 70 / 71\n"
          ]
        }
      ]
    },
    {
      "cell_type": "code",
      "source": [
        "# ═══════════════════════════════════════════════════════════════════════════════\n",
        "# PROMPT 8: ANSWER MAIN QUESTION\n",
        "# ═══════════════════════════════════════════════════════════════════════════════\n",
        "\n",
        "print(\"\\n\" + \"=\"*80)\n",
        "print(\"PROMPT 8: FINAL ANSWER\")\n",
        "print(\"=\"*80)\n",
        "\n",
        "median_sharpe = df_june6['Sharpe'].median()\n",
        "\n",
        "print(f\"\\n🎯 MEDIAN SHARPE RATIO: {median_sharpe:.4f}\")\n",
        "print(f\"\\n{'='*80}\")\n",
        "print(f\"Based on {df_june6['Sharpe'].notna().sum()} stocks from first 5 months of 2024\")\n",
        "print(f\"Measured as of: {target_date.date()}\")\n",
        "print(f\"Period: 252 trading days (~1 year)\")\n",
        "print(f\"Risk-free rate: 4.5%\")\n",
        "print(\"=\"*80)\n"
      ],
      "metadata": {
        "colab": {
          "base_uri": "https://localhost:8080/"
        },
        "id": "5BzxDGgKGEXV",
        "outputId": "cc11515b-437c-470e-a851-387bfb040671"
      },
      "execution_count": 8,
      "outputs": [
        {
          "output_type": "stream",
          "name": "stdout",
          "text": [
            "\n",
            "================================================================================\n",
            "PROMPT 8: FINAL ANSWER\n",
            "================================================================================\n",
            "\n",
            "🎯 MEDIAN SHARPE RATIO: 0.0583\n",
            "\n",
            "================================================================================\n",
            "Based on 71 stocks from first 5 months of 2024\n",
            "Measured as of: 2025-06-06\n",
            "Period: 252 trading days (~1 year)\n",
            "Risk-free rate: 4.5%\n",
            "================================================================================\n"
          ]
        }
      ]
    },
    {
      "cell_type": "code",
      "source": [
        "# ═══════════════════════════════════════════════════════════════════════════════\n",
        "# PROMPT 9: TOP 10 COMPARISON\n",
        "# ═══════════════════════════════════════════════════════════════════════════════\n",
        "\n",
        "print(\"\\n\" + \"=\"*80)\n",
        "print(\"PROMPT 9: TOP 10 COMPARISON (GROWTH vs SHARPE)\")\n",
        "print(\"=\"*80)\n",
        "\n",
        "df_valid = df_june6.dropna(subset=['growth_252d', 'Sharpe'])\n",
        "\n",
        "print(\"\\nTOP 10 BY GROWTH_252D:\")\n",
        "print(\"-\" * 80)\n",
        "top10_growth = df_valid.nlargest(10, 'growth_252d')[['Ticker', 'growth_252d', 'volatility', 'Sharpe']]\n",
        "top10_growth['Return%'] = (top10_growth['growth_252d'] - 1) * 100\n",
        "print(top10_growth[['Ticker', 'Return%', 'growth_252d', 'volatility', 'Sharpe']].to_string(index=False))\n",
        "\n",
        "print(\"\\n\" + \"-\" * 80)\n",
        "print(\"TOP 10 BY SHARPE RATIO:\")\n",
        "print(\"-\" * 80)\n",
        "top10_sharpe = df_valid.nlargest(10, 'Sharpe')[['Ticker', 'Sharpe', 'growth_252d', 'volatility']]\n",
        "top10_sharpe['Return%'] = (top10_sharpe['growth_252d'] - 1) * 100\n",
        "print(top10_sharpe[['Ticker', 'Sharpe', 'Return%', 'growth_252d', 'volatility']].to_string(index=False))\n",
        "\n",
        "# Overlap analysis\n",
        "growth_set = set(top10_growth['Ticker'].tolist())\n",
        "sharpe_set = set(top10_sharpe['Ticker'].tolist())\n",
        "overlap = growth_set.intersection(sharpe_set)\n",
        "\n",
        "print(\"\\n\" + \"-\" * 80)\n",
        "print(\"OVERLAP ANALYSIS:\")\n",
        "print(\"-\" * 80)\n",
        "print(f\"Companies in both top 10: {len(overlap)} / 10\")\n",
        "\n",
        "if len(overlap) == 10:\n",
        "    print(\"✓ YES - Same companies (though possibly different order)\")\n",
        "else:\n",
        "    print(\"✗ NO - Different companies\")\n",
        "    print(f\"\\nCommon: {sorted(overlap)}\")\n",
        "    print(f\"Only in growth: {sorted(growth_set - sharpe_set)}\")\n",
        "    print(f\"Only in Sharpe: {sorted(sharpe_set - growth_set)}\")\n",
        "    print(\"\\n💡 High growth ≠ High Sharpe when volatility is very high\")\n",
        "    print(\"   Sharpe adjusts for risk - stable growers can beat volatile winners\")\n",
        "\n",
        "print(\"\\n\" + \"=\"*80)\n",
        "print(\"ANALYSIS COMPLETE\")\n",
        "print(\"=\"*80)"
      ],
      "metadata": {
        "colab": {
          "base_uri": "https://localhost:8080/"
        },
        "id": "wYNl3SSSGLa3",
        "outputId": "0921d669-e7e5-4e0e-8dd6-a2ff8fbbe161"
      },
      "execution_count": 9,
      "outputs": [
        {
          "output_type": "stream",
          "name": "stdout",
          "text": [
            "\n",
            "================================================================================\n",
            "PROMPT 9: TOP 10 COMPARISON (GROWTH vs SHARPE)\n",
            "================================================================================\n",
            "\n",
            "TOP 10 BY GROWTH_252D:\n",
            "--------------------------------------------------------------------------------\n",
            "Ticker    Return%  growth_252d  volatility   Sharpe\n",
            "    JL 709.741268     8.097413   14.221305 0.566222\n",
            "  ROMA 515.640596     6.156406   12.553202 0.486840\n",
            "  NAKA 443.835606     5.438356  136.860031 0.039408\n",
            "  UMAC 396.653299     4.966533   11.681615 0.421306\n",
            "   NNE 365.522409     4.655224   57.122852 0.080707\n",
            "  RBRK 218.406516     3.184065  164.768721 0.019051\n",
            "   AHR 148.309711     2.483097   21.378544 0.114044\n",
            "    AS 147.820341     2.478203   86.819697 0.028026\n",
            "  SUPX 134.606477     2.346065    8.637976 0.266389\n",
            "   MRX 130.038412     2.300384   29.345058 0.076857\n",
            "\n",
            "--------------------------------------------------------------------------------\n",
            "TOP 10 BY SHARPE RATIO:\n",
            "--------------------------------------------------------------------------------\n",
            "Ticker   Sharpe    Return%  growth_252d  volatility\n",
            "  BKHA 2.835668   4.588063     1.045881    0.352961\n",
            "  LEGT 1.940267   4.940712     1.049407    0.517665\n",
            "  IBAC 1.637119   4.461150     1.044611    0.610592\n",
            "  HLXB 1.123508   6.140352     1.061404    0.904670\n",
            "  DYCQ 0.969321   5.986267     1.059863    1.046983\n",
            "  INTJ 0.744512 -33.861387     0.661386    0.827906\n",
            "    JL 0.566222 709.741268     8.097413   14.221305\n",
            "  TRSG 0.518080 -35.379062     0.646209    1.160458\n",
            "  ROMA 0.486840 515.640596     6.156406   12.553202\n",
            "  YYGH 0.435101  28.181812     1.281818    2.842598\n",
            "\n",
            "--------------------------------------------------------------------------------\n",
            "OVERLAP ANALYSIS:\n",
            "--------------------------------------------------------------------------------\n",
            "Companies in both top 10: 2 / 10\n",
            "✗ NO - Different companies\n",
            "\n",
            "Common: ['JL', 'ROMA']\n",
            "Only in growth: ['AHR', 'AS', 'MRX', 'NAKA', 'NNE', 'RBRK', 'SUPX', 'UMAC']\n",
            "Only in Sharpe: ['BKHA', 'DYCQ', 'HLXB', 'IBAC', 'INTJ', 'LEGT', 'TRSG', 'YYGH']\n",
            "\n",
            "💡 High growth ≠ High Sharpe when volatility is very high\n",
            "   Sharpe adjusts for risk - stable growers can beat volatile winners\n",
            "\n",
            "================================================================================\n",
            "ANALYSIS COMPLETE\n",
            "================================================================================\n"
          ]
        }
      ]
    }
  ]
}