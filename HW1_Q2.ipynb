{
  "nbformat": 4,
  "nbformat_minor": 0,
  "metadata": {
    "colab": {
      "provenance": [],
      "authorship_tag": "ABX9TyPC6YvcputaS/HzxtBYBasZ",
      "include_colab_link": true
    },
    "kernelspec": {
      "name": "python3",
      "display_name": "Python 3"
    },
    "language_info": {
      "name": "python"
    }
  },
  "cells": [
    {
      "cell_type": "markdown",
      "metadata": {
        "id": "view-in-github",
        "colab_type": "text"
      },
      "source": [
        "<a href=\"https://colab.research.google.com/github/Legajo/Colab-Notebooks/blob/main/HW1_Q2.ipynb\" target=\"_parent\"><img src=\"https://colab.research.google.com/assets/colab-badge.svg\" alt=\"Open In Colab\"/></a>"
      ]
    },
    {
      "cell_type": "code",
      "execution_count": 1,
      "metadata": {
        "id": "wBuGVJWxgaT1",
        "outputId": "3d8f7122-5484-4ab4-c03d-fc531d41bdb4",
        "colab": {
          "base_uri": "https://localhost:8080/"
        }
      },
      "outputs": [
        {
          "output_type": "stream",
          "name": "stdout",
          "text": [
            "Libraries imported successfully!\n"
          ]
        }
      ],
      "source": [
        "# ============================================\n",
        "# PROMPT 1: Install and Import Required Libraries\n",
        "# ============================================\n",
        "\n",
        "# Install yfinance if not already installed\n",
        "!pip install yfinance -q\n",
        "\n",
        "import yfinance as yf\n",
        "import pandas as pd\n",
        "import matplotlib.pyplot as plt\n",
        "import seaborn as sns\n",
        "from datetime import datetime\n",
        "\n",
        "print(\"Libraries imported successfully!\")"
      ]
    },
    {
      "cell_type": "code",
      "source": [
        "# ============================================\n",
        "# PROMPT 2: Define Index Tickers and Download Data\n",
        "# ============================================\n",
        "\n",
        "# Define the indexes and their tickers\n",
        "indexes = {\n",
        "    'United States (S&P 500)': '^GSPC',\n",
        "    'China (Shanghai)': '000001.SS',\n",
        "    'Hong Kong (Hang Seng)': '^HSI',\n",
        "    'Australia (ASX 200)': '^AXJO',\n",
        "    'India (Nifty 50)': '^NSEI',\n",
        "    'Canada (TSX)': '^GSPTSE',\n",
        "    'Germany (DAX)': '^GDAXI',\n",
        "    'United Kingdom (FTSE 100)': '^FTSE',\n",
        "    'Japan (Nikkei 225)': '^N225',\n",
        "    'Mexico (IPC)': '^MXX',\n",
        "    'Brazil (Ibovespa)': '^BVSP'\n",
        "}\n",
        "\n",
        "# Download data for the YTD period\n",
        "start_date = '2025-01-01'\n",
        "end_date = '2025-05-01'\n",
        "\n",
        "print(f\"Downloading data from {start_date} to {end_date}...\\n\")\n",
        "\n",
        "# Download all data\n",
        "data = yf.download(\n",
        "    tickers=list(indexes.values()),\n",
        "    start=start_date,\n",
        "    end=end_date,\n",
        "    progress=False\n",
        ")\n",
        "\n",
        "print(\"Data downloaded successfully!\")\n",
        "print(f\"Data shape: {data.shape}\")\n"
      ],
      "metadata": {
        "id": "MMD4LvBB25HU",
        "outputId": "c5affc7b-36d1-4c24-ff2b-dec1854ab939",
        "colab": {
          "base_uri": "https://localhost:8080/"
        }
      },
      "execution_count": 2,
      "outputs": [
        {
          "output_type": "stream",
          "name": "stdout",
          "text": [
            "Downloading data from 2025-01-01 to 2025-05-01...\n",
            "\n"
          ]
        },
        {
          "output_type": "stream",
          "name": "stderr",
          "text": [
            "/tmp/ipython-input-1315818878.py:27: FutureWarning: YF.download() has changed argument auto_adjust default to True\n",
            "  data = yf.download(\n"
          ]
        },
        {
          "output_type": "stream",
          "name": "stdout",
          "text": [
            "Data downloaded successfully!\n",
            "Data shape: (87, 55)\n"
          ]
        }
      ]
    },
    {
      "cell_type": "code",
      "source": [
        "\n",
        "# ============================================\n",
        "# PROMPT 3: Calculate YTD Returns for Each Index\n",
        "# ============================================\n",
        "\n",
        "# Extract closing prices\n",
        "close_prices = data['Close']\n",
        "\n",
        "# Calculate YTD returns\n",
        "ytd_returns = {}\n",
        "\n",
        "for name, ticker in indexes.items():\n",
        "    try:\n",
        "        # Get the first and last valid prices\n",
        "        prices = close_prices[ticker].dropna()\n",
        "\n",
        "        if len(prices) > 0:\n",
        "            first_price = prices.iloc[0]\n",
        "            last_price = prices.iloc[-1]\n",
        "\n",
        "            # Calculate percentage return\n",
        "            ytd_return = ((last_price - first_price) / first_price) * 100\n",
        "            ytd_returns[name] = ytd_return\n",
        "\n",
        "            print(f\"{name:35} | YTD Return: {ytd_return:+.2f}%\")\n",
        "        else:\n",
        "            print(f\"{name:35} | No data available\")\n",
        "            ytd_returns[name] = None\n",
        "    except Exception as e:\n",
        "        print(f\"{name:35} | Error: {e}\")\n",
        "        ytd_returns[name] = None\n",
        "\n"
      ],
      "metadata": {
        "id": "_srfSNlnJmxu",
        "outputId": "c8738d9f-c0a3-42d6-f709-4ede897ac2e4",
        "colab": {
          "base_uri": "https://localhost:8080/"
        }
      },
      "execution_count": 3,
      "outputs": [
        {
          "output_type": "stream",
          "name": "stdout",
          "text": [
            "United States (S&P 500)             | YTD Return: -5.10%\n",
            "China (Shanghai)                    | YTD Return: +0.50%\n",
            "Hong Kong (Hang Seng)               | YTD Return: +12.72%\n",
            "Australia (ASX 200)                 | YTD Return: -0.91%\n",
            "India (Nifty 50)                    | YTD Return: +2.49%\n",
            "Canada (TSX)                        | YTD Return: -0.23%\n",
            "Germany (DAX)                       | YTD Return: +12.35%\n",
            "United Kingdom (FTSE 100)           | YTD Return: +2.84%\n",
            "Japan (Nikkei 225)                  | YTD Return: -8.30%\n",
            "Mexico (IPC)                        | YTD Return: +13.05%\n",
            "Brazil (Ibovespa)                   | YTD Return: +12.44%\n"
          ]
        }
      ]
    },
    {
      "cell_type": "code",
      "source": [
        "\n",
        "\n",
        "# ============================================\n",
        "# PROMPT 4: Compare Performance vs S&P 500\n",
        "# ============================================\n",
        "\n",
        "# Get S&P 500 return\n",
        "sp500_return = ytd_returns['United States (S&P 500)']\n",
        "\n",
        "print(f\"\\n{'='*60}\")\n",
        "print(f\"S&P 500 YTD Return: {sp500_return:+.2f}%\")\n",
        "print(f\"{'='*60}\\n\")\n",
        "\n",
        "# Count how many indexes outperformed the S&P 500\n",
        "outperformers = []\n",
        "underperformers = []\n",
        "\n",
        "for name, ytd_return in ytd_returns.items():\n",
        "    if name != 'United States (S&P 500)' and ytd_return is not None:\n",
        "        if ytd_return > sp500_return:\n",
        "            outperformers.append((name, ytd_return))\n",
        "            print(f\"✓ {name:35} | {ytd_return:+.2f}% (Better by {ytd_return - sp500_return:+.2f}%)\")\n",
        "        else:\n",
        "            underperformers.append((name, ytd_return))\n",
        "\n",
        "print(f\"\\n{'='*60}\")\n",
        "print(f\"ANSWER: {len(outperformers)} out of 10 indexes outperformed the S&P 500\")\n",
        "print(f\"{'='*60}\")\n",
        "\n"
      ],
      "metadata": {
        "id": "jw18ah3RKFAz",
        "outputId": "4a15299c-d425-427f-aacd-ae37378427f4",
        "colab": {
          "base_uri": "https://localhost:8080/"
        }
      },
      "execution_count": 4,
      "outputs": [
        {
          "output_type": "stream",
          "name": "stdout",
          "text": [
            "\n",
            "============================================================\n",
            "S&P 500 YTD Return: -5.10%\n",
            "============================================================\n",
            "\n",
            "✓ China (Shanghai)                    | +0.50% (Better by +5.61%)\n",
            "✓ Hong Kong (Hang Seng)               | +12.72% (Better by +17.82%)\n",
            "✓ Australia (ASX 200)                 | -0.91% (Better by +4.19%)\n",
            "✓ India (Nifty 50)                    | +2.49% (Better by +7.59%)\n",
            "✓ Canada (TSX)                        | -0.23% (Better by +4.88%)\n",
            "✓ Germany (DAX)                       | +12.35% (Better by +17.45%)\n",
            "✓ United Kingdom (FTSE 100)           | +2.84% (Better by +7.95%)\n",
            "✓ Mexico (IPC)                        | +13.05% (Better by +18.15%)\n",
            "✓ Brazil (Ibovespa)                   | +12.44% (Better by +17.54%)\n",
            "\n",
            "============================================================\n",
            "ANSWER: 9 out of 10 indexes outperformed the S&P 500\n",
            "============================================================\n"
          ]
        }
      ]
    }
  ]
}