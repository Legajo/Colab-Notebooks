{
  "nbformat": 4,
  "nbformat_minor": 0,
  "metadata": {
    "colab": {
      "provenance": [],
      "authorship_tag": "ABX9TyOST9gxoAnjZS5Xf1IVxBki",
      "include_colab_link": true
    },
    "kernelspec": {
      "name": "python3",
      "display_name": "Python 3"
    },
    "language_info": {
      "name": "python"
    }
  },
  "cells": [
    {
      "cell_type": "markdown",
      "metadata": {
        "id": "view-in-github",
        "colab_type": "text"
      },
      "source": [
        "<a href=\"https://colab.research.google.com/github/Legajo/Colab-Notebooks/blob/main/HW1_Q2.ipynb\" target=\"_parent\"><img src=\"https://colab.research.google.com/assets/colab-badge.svg\" alt=\"Open In Colab\"/></a>"
      ]
    },
    {
      "cell_type": "code",
      "execution_count": null,
      "metadata": {
        "id": "wBuGVJWxgaT1"
      },
      "outputs": [],
      "source": [
        "# ============================================\n",
        "# PROMPT 1: Install and Import Required Libraries\n",
        "# ============================================\n",
        "\n",
        "# Install yfinance if not already installed\n",
        "!pip install yfinance -q\n",
        "\n",
        "import yfinance as yf\n",
        "import pandas as pd\n",
        "import matplotlib.pyplot as plt\n",
        "import seaborn as sns\n",
        "from datetime import datetime\n",
        "\n",
        "print(\"Libraries imported successfully!\")"
      ]
    }
  ]
}