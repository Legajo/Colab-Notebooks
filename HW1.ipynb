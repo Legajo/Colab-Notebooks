{
  "nbformat": 4,
  "nbformat_minor": 0,
  "metadata": {
    "colab": {
      "provenance": [],
      "authorship_tag": "ABX9TyNDzN6RJ6jrnvWbfZiEtqcN",
      "include_colab_link": true
    },
    "kernelspec": {
      "name": "python3",
      "display_name": "Python 3"
    },
    "language_info": {
      "name": "python"
    }
  },
  "cells": [
    {
      "cell_type": "markdown",
      "metadata": {
        "id": "view-in-github",
        "colab_type": "text"
      },
      "source": [
        "<a href=\"https://colab.research.google.com/github/Legajo/Colab-Notebooks/blob/main/HW1.ipynb\" target=\"_parent\"><img src=\"https://colab.research.google.com/assets/colab-badge.svg\" alt=\"Open In Colab\"/></a>"
      ]
    },
    {
      "cell_type": "code",
      "source": [
        "\n",
        "# install the main library YFinance\n",
        "!pip install yfinance"
      ],
      "metadata": {
        "colab": {
          "base_uri": "https://localhost:8080/"
        },
        "id": "SllLN8kYXyAB",
        "outputId": "ea056d70-4cea-4917-e696-d627b331e10d"
      },
      "execution_count": 2,
      "outputs": [
        {
          "output_type": "stream",
          "name": "stdout",
          "text": [
            "Requirement already satisfied: yfinance in /usr/local/lib/python3.12/dist-packages (0.2.66)\n",
            "Requirement already satisfied: pandas>=1.3.0 in /usr/local/lib/python3.12/dist-packages (from yfinance) (2.2.2)\n",
            "Requirement already satisfied: numpy>=1.16.5 in /usr/local/lib/python3.12/dist-packages (from yfinance) (2.0.2)\n",
            "Requirement already satisfied: requests>=2.31 in /usr/local/lib/python3.12/dist-packages (from yfinance) (2.32.4)\n",
            "Requirement already satisfied: multitasking>=0.0.7 in /usr/local/lib/python3.12/dist-packages (from yfinance) (0.0.12)\n",
            "Requirement already satisfied: platformdirs>=2.0.0 in /usr/local/lib/python3.12/dist-packages (from yfinance) (4.4.0)\n",
            "Requirement already satisfied: pytz>=2022.5 in /usr/local/lib/python3.12/dist-packages (from yfinance) (2025.2)\n",
            "Requirement already satisfied: frozendict>=2.3.4 in /usr/local/lib/python3.12/dist-packages (from yfinance) (2.4.6)\n",
            "Requirement already satisfied: peewee>=3.16.2 in /usr/local/lib/python3.12/dist-packages (from yfinance) (3.18.2)\n",
            "Requirement already satisfied: beautifulsoup4>=4.11.1 in /usr/local/lib/python3.12/dist-packages (from yfinance) (4.13.5)\n",
            "Requirement already satisfied: curl_cffi>=0.7 in /usr/local/lib/python3.12/dist-packages (from yfinance) (0.13.0)\n",
            "Requirement already satisfied: protobuf>=3.19.0 in /usr/local/lib/python3.12/dist-packages (from yfinance) (5.29.5)\n",
            "Requirement already satisfied: websockets>=13.0 in /usr/local/lib/python3.12/dist-packages (from yfinance) (15.0.1)\n",
            "Requirement already satisfied: soupsieve>1.2 in /usr/local/lib/python3.12/dist-packages (from beautifulsoup4>=4.11.1->yfinance) (2.8)\n",
            "Requirement already satisfied: typing-extensions>=4.0.0 in /usr/local/lib/python3.12/dist-packages (from beautifulsoup4>=4.11.1->yfinance) (4.15.0)\n",
            "Requirement already satisfied: cffi>=1.12.0 in /usr/local/lib/python3.12/dist-packages (from curl_cffi>=0.7->yfinance) (2.0.0)\n",
            "Requirement already satisfied: certifi>=2024.2.2 in /usr/local/lib/python3.12/dist-packages (from curl_cffi>=0.7->yfinance) (2025.8.3)\n",
            "Requirement already satisfied: python-dateutil>=2.8.2 in /usr/local/lib/python3.12/dist-packages (from pandas>=1.3.0->yfinance) (2.9.0.post0)\n",
            "Requirement already satisfied: tzdata>=2022.7 in /usr/local/lib/python3.12/dist-packages (from pandas>=1.3.0->yfinance) (2025.2)\n",
            "Requirement already satisfied: charset_normalizer<4,>=2 in /usr/local/lib/python3.12/dist-packages (from requests>=2.31->yfinance) (3.4.3)\n",
            "Requirement already satisfied: idna<4,>=2.5 in /usr/local/lib/python3.12/dist-packages (from requests>=2.31->yfinance) (3.10)\n",
            "Requirement already satisfied: urllib3<3,>=1.21.1 in /usr/local/lib/python3.12/dist-packages (from requests>=2.31->yfinance) (2.5.0)\n",
            "Requirement already satisfied: pycparser in /usr/local/lib/python3.12/dist-packages (from cffi>=1.12.0->curl_cffi>=0.7->yfinance) (2.23)\n",
            "Requirement already satisfied: six>=1.5 in /usr/local/lib/python3.12/dist-packages (from python-dateutil>=2.8.2->pandas>=1.3.0->yfinance) (1.17.0)\n"
          ]
        }
      ]
    },
    {
      "cell_type": "code",
      "source": [
        "## Cell 1: Import Libraries\n",
        "import pandas as pd\n",
        "from urllib.request import Request, urlopen\n",
        "import matplotlib.pyplot as plt\n",
        "import seaborn as sns\n",
        "print(\"Libraries imported successfully!\")"
      ],
      "metadata": {
        "colab": {
          "base_uri": "https://localhost:8080/"
        },
        "id": "-0HD4mLbWf9P",
        "outputId": "04a413d8-494a-4371-edc2-ee5e5acc8632"
      },
      "execution_count": 9,
      "outputs": [
        {
          "output_type": "stream",
          "name": "stdout",
          "text": [
            "Libraries imported successfully!\n"
          ]
        }
      ]
    },
    {
      "cell_type": "code",
      "source": [
        "## Cell 2: Scrape Data from Wikipedia\n",
        "\n",
        "url = \"https://en.wikipedia.org/wiki/List_of_S%26P_500_companies\"\n",
        "\n",
        "# Create a request with User-Agent header to avoid 403 error\n",
        "req = Request(url, headers={'User-Agent': 'Mozilla/5.0'})\n",
        "\n",
        "# Read HTML tables using the request\n",
        "tables = pd.read_html(urlopen(req).read())\n",
        "df = tables[0]\n",
        "\n",
        "print(\"DataFrame shape:\", df.shape)\n",
        "print(\"\\nColumn names:\")\n",
        "print(df.columns.tolist())\n",
        "print(\"\\nFirst 5 rows:\")\n",
        "print(df.head())"
      ],
      "metadata": {
        "colab": {
          "base_uri": "https://localhost:8080/"
        },
        "id": "t0G4RwbzX5C4",
        "outputId": "ae58d47b-36c5-4ce0-df17-337d463e8cb9"
      },
      "execution_count": 11,
      "outputs": [
        {
          "output_type": "stream",
          "name": "stdout",
          "text": [
            "DataFrame shape: (503, 8)\n",
            "\n",
            "Column names:\n",
            "['Symbol', 'Security', 'GICS Sector', 'GICS Sub-Industry', 'Headquarters Location', 'Date added', 'CIK', 'Founded']\n",
            "\n",
            "First 5 rows:\n",
            "  Symbol             Security             GICS Sector  \\\n",
            "0    MMM                   3M             Industrials   \n",
            "1    AOS          A. O. Smith             Industrials   \n",
            "2    ABT  Abbott Laboratories             Health Care   \n",
            "3   ABBV               AbbVie             Health Care   \n",
            "4    ACN            Accenture  Information Technology   \n",
            "\n",
            "                GICS Sub-Industry    Headquarters Location  Date added  \\\n",
            "0        Industrial Conglomerates    Saint Paul, Minnesota  1957-03-04   \n",
            "1               Building Products     Milwaukee, Wisconsin  2017-07-26   \n",
            "2           Health Care Equipment  North Chicago, Illinois  1957-03-04   \n",
            "3                   Biotechnology  North Chicago, Illinois  2012-12-31   \n",
            "4  IT Consulting & Other Services          Dublin, Ireland  2011-07-06   \n",
            "\n",
            "       CIK      Founded  \n",
            "0    66740         1902  \n",
            "1    91142         1916  \n",
            "2     1800         1888  \n",
            "3  1551152  2013 (1888)  \n",
            "4  1467373         1989  \n"
          ]
        }
      ]
    },
    {
      "cell_type": "code",
      "source": [
        "## Cell 3: Clean and Extract Data\n",
        "\n",
        "date_column = [col for col in df.columns if \"added\" in col.lower()][0]\n",
        "print(f\"Date added column: {date_column}\")\n",
        "\n",
        "sp500_df = pd.DataFrame({\n",
        "    \"Ticker\": df[\"Symbol\"],\n",
        "    \"Company\": df[\"Security\"],\n",
        "    \"Date_Added\": df[date_column]\n",
        "})\n",
        "\n",
        "print(\"\\nCleaned DataFrame:\")\n",
        "print(sp500_df.head(10))\n",
        "print(f\"\\nTotal companies: {len(sp500_df)}\")"
      ],
      "metadata": {
        "id": "hgyHqyT-Zs4i",
        "outputId": "7ef41ba2-c433-4f02-ebd5-5ef4dc38aaf9",
        "colab": {
          "base_uri": "https://localhost:8080/"
        }
      },
      "execution_count": 12,
      "outputs": [
        {
          "output_type": "stream",
          "name": "stdout",
          "text": [
            "Date added column: Date added\n",
            "\n",
            "Cleaned DataFrame:\n",
            "  Ticker                 Company  Date_Added\n",
            "0    MMM                      3M  1957-03-04\n",
            "1    AOS             A. O. Smith  2017-07-26\n",
            "2    ABT     Abbott Laboratories  1957-03-04\n",
            "3   ABBV                  AbbVie  2012-12-31\n",
            "4    ACN               Accenture  2011-07-06\n",
            "5   ADBE              Adobe Inc.  1997-05-05\n",
            "6    AMD  Advanced Micro Devices  2017-03-20\n",
            "7    AES         AES Corporation  1998-10-02\n",
            "8    AFL                   Aflac  1999-05-28\n",
            "9      A    Agilent Technologies  2000-06-05\n",
            "\n",
            "Total companies: 503\n"
          ]
        }
      ]
    },
    {
      "cell_type": "code",
      "source": [
        "## Cell 4: Extract Year from Date\n",
        "\n",
        "sp500_df[\"Year_Added\"] = sp500_df[\"Date_Added\"].astype(str).str.extract(r\"(\\d{4})\")\n",
        "sp500_df[\"Year_Added\"] = pd.to_numeric(sp500_df[\"Year_Added\"], errors=\"coerce\")\n",
        "\n",
        "print(\"DataFrame with extracted years:\")\n",
        "print(sp500_df.head(10))\n",
        "\n",
        "missing_years = sp500_df[\"Year_Added\"].isna().sum()\n",
        "print(f\"\\nRows with missing years: {missing_years}\")"
      ],
      "metadata": {
        "id": "qBcsDaSQcwH9",
        "outputId": "ab86f867-8499-4788-c06e-a3e05c6f5b6a",
        "colab": {
          "base_uri": "https://localhost:8080/"
        }
      },
      "execution_count": 13,
      "outputs": [
        {
          "output_type": "stream",
          "name": "stdout",
          "text": [
            "DataFrame with extracted years:\n",
            "  Ticker                 Company  Date_Added  Year_Added\n",
            "0    MMM                      3M  1957-03-04        1957\n",
            "1    AOS             A. O. Smith  2017-07-26        2017\n",
            "2    ABT     Abbott Laboratories  1957-03-04        1957\n",
            "3   ABBV                  AbbVie  2012-12-31        2012\n",
            "4    ACN               Accenture  2011-07-06        2011\n",
            "5   ADBE              Adobe Inc.  1997-05-05        1997\n",
            "6    AMD  Advanced Micro Devices  2017-03-20        2017\n",
            "7    AES         AES Corporation  1998-10-02        1998\n",
            "8    AFL                   Aflac  1999-05-28        1999\n",
            "9      A    Agilent Technologies  2000-06-05        2000\n",
            "\n",
            "Rows with missing years: 0\n"
          ]
        }
      ]
    },
    {
      "cell_type": "code",
      "source": [
        "## Cell 5: Count Additions per Year (Excluding 1957)\n",
        "df_filtered = sp500_df[\n",
        "    (sp500_df[\"Year_Added\"] != 1957) &\n",
        "    (sp500_df[\"Year_Added\"].notna())\n",
        "].copy()\n",
        "\n",
        "year_counts = df_filtered[\"Year_Added\"].value_counts().sort_index()\n",
        "year_counts_df = pd.DataFrame({\n",
        "    \"Year\": year_counts.index.astype(int),\n",
        "    \"Additions\": year_counts.values\n",
        "})\n",
        "\n",
        "print(\"Additions per year (excluding 1957):\")\n",
        "print(year_counts_df)"
      ],
      "metadata": {
        "id": "MT3Gpf0vc9x1",
        "outputId": "6eb7329c-242c-4e3a-db54-ba4867345b34",
        "colab": {
          "base_uri": "https://localhost:8080/"
        }
      },
      "execution_count": 14,
      "outputs": [
        {
          "output_type": "stream",
          "name": "stdout",
          "text": [
            "Additions per year (excluding 1957):\n",
            "    Year  Additions\n",
            "0   1964          1\n",
            "1   1965          2\n",
            "2   1969          2\n",
            "3   1970          2\n",
            "4   1972          2\n",
            "5   1973          2\n",
            "6   1974          1\n",
            "7   1975          2\n",
            "8   1976         11\n",
            "9   1978          1\n",
            "10  1979          1\n",
            "11  1980          3\n",
            "12  1981          3\n",
            "13  1982          5\n",
            "14  1983          3\n",
            "15  1984          4\n",
            "16  1985          7\n",
            "17  1986          3\n",
            "18  1987          2\n",
            "19  1988          4\n",
            "20  1989          5\n",
            "21  1991          1\n",
            "22  1992          3\n",
            "23  1993          3\n",
            "24  1994          7\n",
            "25  1995          7\n",
            "26  1996          2\n",
            "27  1997         14\n",
            "28  1998         11\n",
            "29  1999          9\n",
            "30  2000          9\n",
            "31  2001          8\n",
            "32  2002         13\n",
            "33  2003          5\n",
            "34  2004          6\n",
            "35  2005          7\n",
            "36  2006          9\n",
            "37  2007         12\n",
            "38  2008         17\n",
            "39  2009         12\n",
            "40  2010          9\n",
            "41  2011         10\n",
            "42  2012         14\n",
            "43  2013         10\n",
            "44  2014          8\n",
            "45  2015         14\n",
            "46  2016         23\n",
            "47  2017         22\n",
            "48  2018         14\n",
            "49  2019         21\n",
            "50  2020         12\n",
            "51  2021         13\n",
            "52  2022         16\n",
            "53  2023         15\n",
            "54  2024         16\n",
            "55  2025         12\n"
          ]
        }
      ]
    },
    {
      "cell_type": "code",
      "source": [
        "## Cell 6: Find Year with Highest Additions\n",
        "\n",
        "max_additions = year_counts_df[\"Additions\"].max()\n",
        "years_with_max = year_counts_df[year_counts_df[\"Additions\"] == max_additions]\n",
        "answer_year = years_with_max[\"Year\"].max()\n",
        "\n",
        "print(\"\\n\" + \"=\"*50)\n",
        "print(\"ANSWER\")\n",
        "print(\"=\"*50)\n",
        "print(f\"Year with highest number of additions: {answer_year}\")\n",
        "print(f\"Number of additions in {answer_year}: {max_additions}\")\n",
        "print(\"=\"*50)\n",
        "\n",
        "if len(years_with_max) > 1:\n",
        "    print(f\"\\nNote: Multiple years had {max_additions} additions:\")\n",
        "    print(years_with_max.to_string(index=False))\n",
        "    print(f\"Most recent year selected: {answer_year}\")"
      ],
      "metadata": {
        "id": "BT-nkawndI6c",
        "outputId": "b2886acb-22be-4ad2-ae5e-0afa549f26e0",
        "colab": {
          "base_uri": "https://localhost:8080/"
        }
      },
      "execution_count": 15,
      "outputs": [
        {
          "output_type": "stream",
          "name": "stdout",
          "text": [
            "\n",
            "==================================================\n",
            "ANSWER\n",
            "==================================================\n",
            "Year with highest number of additions: 2016\n",
            "Number of additions in 2016: 23\n",
            "==================================================\n"
          ]
        }
      ]
    },
    {
      "cell_type": "code",
      "source": [
        "## Cell 7: Create Visualization\n",
        "\n",
        "sns.set_style(\"whitegrid\")\n",
        "plt.figure(figsize=(16, 8))\n",
        "\n",
        "bars = plt.bar(year_counts_df[\"Year\"], year_counts_df[\"Additions\"],\n",
        "               color=\"steelblue\", edgecolor=\"navy\", alpha=0.7)\n",
        "\n",
        "max_year_idx = year_counts_df[year_counts_df[\"Year\"] == answer_year].index[0]\n",
        "bars[max_year_idx].set_color(\"darkred\")\n",
        "bars[max_year_idx].set_edgecolor(\"red\")\n",
        "bars[max_year_idx].set_linewidth(2)\n",
        "\n",
        "plt.xlabel(\"Year\", fontsize=14, fontweight=\"bold\")\n",
        "plt.ylabel(\"Number of Additions\", fontsize=14, fontweight=\"bold\")\n",
        "plt.title(\"S&P 500 Stock Additions by Year (Excluding 1957)\",\n",
        "          fontsize=16, fontweight=\"bold\", pad=20)\n",
        "plt.xticks(rotation=45, ha=\"right\")\n",
        "plt.grid(axis=\"y\", alpha=0.3)\n",
        "\n",
        "plt.annotate(f\"Peak: {answer_year}\\n({max_additions} additions)\",\n",
        "             xy=(answer_year, max_additions),\n",
        "             xytext=(10, 20), textcoords=\"offset points\",\n",
        "             bbox=dict(boxstyle=\"round,pad=0.5\", facecolor=\"yellow\", alpha=0.7),\n",
        "             arrowprops=dict(arrowstyle=\"->\", connectionstyle=\"arc3,rad=0\", color=\"red\"),\n",
        "             fontsize=12, fontweight=\"bold\")\n",
        "\n",
        "plt.tight_layout()\n",
        "plt.show()"
      ],
      "metadata": {
        "id": "WLOfJjLIdQsn",
        "outputId": "4bdd5e98-91f8-47f4-e5f6-7671b4fb0812",
        "colab": {
          "base_uri": "https://localhost:8080/",
          "height": 570
        }
      },
      "execution_count": 16,
      "outputs": [
        {
          "output_type": "display_data",
          "data": {
            "text/plain": [
              "<Figure size 1600x800 with 1 Axes>"
            ],
            "image/png": "[encoded data removed]"
          },
          "metadata": {}
        }
      ]
    },
    {
      "cell_type": "code",
      "source": [
        "## Cell 8: Summary Statistics\n",
        "\n",
        "print(\"\\n\" + \"=\"*50)\n",
        "print(\"SUMMARY STATISTICS\")\n",
        "print(\"=\"*50)\n",
        "print(f\"Total companies analyzed: {len(sp500_df)}\")\n",
        "print(f\"Companies added after 1957: {len(df_filtered)}\")\n",
        "print(f\"Year range: {year_counts_df['Year'].min()} - {year_counts_df['Year'].max()}\")\n",
        "print(f\"Average additions per year: {year_counts_df['Additions'].mean():.2f}\")\n",
        "print(f\"Median additions per year: {year_counts_df['Additions'].median():.0f}\")\n",
        "print(f\"Total years with additions: {len(year_counts_df)}\")\n",
        "print(\"=\"*50)\n",
        "\n",
        "print(\"\\nTop 5 years with most additions:\")\n",
        "print(year_counts_df.nlargest(5, \"Additions\").to_string(index=False))"
      ],
      "metadata": {
        "id": "MfS71VoIdnIv",
        "outputId": "57b7a980-43bf-439c-a981-dcb3e03c4ca9",
        "colab": {
          "base_uri": "https://localhost:8080/"
        }
      },
      "execution_count": 17,
      "outputs": [
        {
          "output_type": "stream",
          "name": "stdout",
          "text": [
            "\n",
            "==================================================\n",
            "SUMMARY STATISTICS\n",
            "==================================================\n",
            "Total companies analyzed: 503\n",
            "Companies added after 1957: 450\n",
            "Year range: 1964 - 2025\n",
            "Average additions per year: 8.04\n",
            "Median additions per year: 7\n",
            "Total years with additions: 56\n",
            "==================================================\n",
            "\n",
            "Top 5 years with most additions:\n",
            " Year  Additions\n",
            " 2016         23\n",
            " 2017         22\n",
            " 2019         21\n",
            " 2008         17\n",
            " 2022         16\n"
          ]
        }
      ]
    }
  ]
}